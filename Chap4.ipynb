{
 "cells": [
  {
   "cell_type": "code",
   "execution_count": 3,
   "source": [
    "import numpy as np"
   ],
   "outputs": [],
   "metadata": {}
  },
  {
   "cell_type": "code",
   "execution_count": 6,
   "source": [
    "# 손실함수 구하는 것\r\n",
    "# 오차 제곱합 \r\n",
    "# y : 출력 (신경망이 추정한 값)\r\n",
    "# t : 정답 레이블\r\n",
    "def sum_squares_error(y, t):\r\n",
    "    return 0.5 * np.sum((y-t)**2) "
   ],
   "outputs": [],
   "metadata": {}
  },
  {
   "cell_type": "code",
   "execution_count": 8,
   "source": [
    "t = [0, 0, 1, 0, 0, 0, 0, 0, 0, 0]\r\n",
    "y1 = [0.1, 0.05, 0.6, 0.0, 0.05, 0.1, 0.0, 0.1, 0.0, 0.0]\r\n",
    "y2 = [0.1, 0.05, 0.1, 0.0, 0.05, 0.1, 0.0, 0.6, 0.0, 0.0]\r\n",
    "\r\n",
    "loss1 = sum_squares_error(np.array(y1), np.array(t))\r\n",
    "loss2 = sum_squares_error(np.array(y2), np.array(t))\r\n",
    "\r\n",
    "loss1, loss2"
   ],
   "outputs": [
    {
     "output_type": "execute_result",
     "data": {
      "text/plain": [
       "(0.09750000000000003, 0.5975)"
      ]
     },
     "metadata": {},
     "execution_count": 8
    }
   ],
   "metadata": {}
  },
  {
   "cell_type": "code",
   "execution_count": 9,
   "source": [
    "# 교차 엔트로피 오차 : Cross entropy error : CEE\r\n",
    "# delta 더한 이유 : y가 0일 때 마이너스 무한대인 -inf가 되어 계산을 진행 할 수 없기때문에 최소 값을 만들어 놓음\r\n",
    "def CEE(y, t):\r\n",
    "    delta = 1e-7\r\n",
    "    return -np.sum(t * np.log(y + delta))"
   ],
   "outputs": [],
   "metadata": {}
  },
  {
   "cell_type": "code",
   "execution_count": 10,
   "source": [
    "t = [0, 0, 1, 0, 0, 0, 0, 0, 0, 0]\r\n",
    "y1 = [0.1, 0.05, 0.6, 0.0, 0.05, 0.1, 0.0, 0.1, 0.0, 0.0]\r\n",
    "y2 = [0.1, 0.05, 0.1, 0.0, 0.05, 0.1, 0.0, 0.6, 0.0, 0.0]\r\n",
    "\r\n",
    "loss1 = CEE(np.array(y1), np.array(t))\r\n",
    "loss2 = CEE(np.array(y2), np.array(t))\r\n",
    "\r\n",
    "loss1, loss2"
   ],
   "outputs": [
    {
     "output_type": "execute_result",
     "data": {
      "text/plain": [
       "(0.510825457099338, 2.302584092994546)"
      ]
     },
     "metadata": {},
     "execution_count": 10
    }
   ],
   "metadata": {}
  },
  {
   "cell_type": "code",
   "execution_count": 15,
   "source": [
    "import sys, os\r\n",
    "sys.path.append(os.pardir)\r\n",
    "import numpy as np \r\n",
    "from dataset.mnist import load_mnist\r\n",
    "\r\n",
    "(x_train, t_train), (x_test, t_test) = load_mnist(normalize = True, one_hot_label = True)\r\n",
    "\r\n",
    "print(x_train.shape)\r\n",
    "print(t_train.shape)"
   ],
   "outputs": [
    {
     "output_type": "stream",
     "name": "stdout",
     "text": [
      "Converting train-images-idx3-ubyte.gz to NumPy Array ...\n",
      "Done\n",
      "Converting train-labels-idx1-ubyte.gz to NumPy Array ...\n",
      "Done\n",
      "Converting t10k-images-idx3-ubyte.gz to NumPy Array ...\n",
      "Done\n",
      "Converting t10k-labels-idx1-ubyte.gz to NumPy Array ...\n",
      "Done\n",
      "Creating pickle file ...\n",
      "Done!\n",
      "(60000, 784)\n",
      "(60000, 10)\n"
     ]
    }
   ],
   "metadata": {}
  },
  {
   "cell_type": "code",
   "execution_count": 17,
   "source": [
    "# 훈련데이터에서 10장만 무작위로 뽑음 \r\n",
    "\r\n",
    "train_size = x_train.shape[0]\r\n",
    "batch_size = 10\r\n",
    "\r\n",
    "# np.random.choice는 지정한 범위의 수 중에서 무작위로 원하는 개수만 꺼낼수 있다. \r\n",
    "# 즉, train_size : 60000개에서 batch_size : 10개를 무작위로 골라내는 것\r\n",
    "batch_mask = np.random.choice(train_size, batch_size)\r\n",
    "x_batch = x_train[batch_mask] \r\n",
    "t_batch = t_train[batch_mask]\r\n",
    "\r\n",
    "# 데이터의 인덱스로 사용하는 것 \r\n",
    "batch_mask"
   ],
   "outputs": [
    {
     "output_type": "execute_result",
     "data": {
      "text/plain": [
       "array([40373, 39540, 14903,  9843, 41420, 37048, 52031, 33707, 35229,\n",
       "       52822])"
      ]
     },
     "metadata": {},
     "execution_count": 17
    }
   ],
   "metadata": {}
  },
  {
   "cell_type": "code",
   "execution_count": 19,
   "source": [
    "# batch_size 용 교차 엔트로피 오차 \r\n",
    "def CEE(y, t):\r\n",
    "    if y.ndim == 1:\r\n",
    "        t = t.reshape(1, t.size)\r\n",
    "        y = y.reshape(1, y.size)\r\n",
    "\r\n",
    "    batch_size = y.shape[0]\r\n",
    "    return -np.sum(t * np.log(y + 1e-7)) / batch_size"
   ],
   "outputs": [],
   "metadata": {}
  },
  {
   "cell_type": "code",
   "execution_count": null,
   "source": [],
   "outputs": [],
   "metadata": {}
  },
  {
   "cell_type": "code",
   "execution_count": null,
   "source": [],
   "outputs": [],
   "metadata": {}
  }
 ],
 "metadata": {
  "orig_nbformat": 4,
  "language_info": {
   "name": "python",
   "version": "3.9.5",
   "mimetype": "text/x-python",
   "codemirror_mode": {
    "name": "ipython",
    "version": 3
   },
   "pygments_lexer": "ipython3",
   "nbconvert_exporter": "python",
   "file_extension": ".py"
  },
  "kernelspec": {
   "name": "python3",
   "display_name": "Python 3.9.5 64-bit ('venv': venv)"
  },
  "interpreter": {
   "hash": "f892bdf6aaf6a0079611b93749c8a0aa100a791d5095930370274196da5611a3"
  }
 },
 "nbformat": 4,
 "nbformat_minor": 2
}
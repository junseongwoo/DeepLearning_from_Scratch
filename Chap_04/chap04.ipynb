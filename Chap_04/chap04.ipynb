{
 "metadata": {
  "language_info": {
   "codemirror_mode": {
    "name": "ipython",
    "version": 3
   },
   "file_extension": ".py",
   "mimetype": "text/x-python",
   "name": "python",
   "nbconvert_exporter": "python",
   "pygments_lexer": "ipython3",
   "version": 3
  },
  "orig_nbformat": 4
 },
 "nbformat": 4,
 "nbformat_minor": 2,
 "cells": [
  {
   "source": [
    "## 4-4 기울기 \n",
    "\n",
    "x0와 x1을 동시에 계산하고 싶다! "
   ],
   "cell_type": "markdown",
   "metadata": {}
  }
 ]
}